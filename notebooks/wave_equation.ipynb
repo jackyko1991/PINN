{
 "cells": [
  {
   "cell_type": "markdown",
   "metadata": {},
   "source": [
    "# Solve Wave Equation with PINN"
   ]
  },
  {
   "cell_type": "markdown",
   "metadata": {},
   "source": [
    "## Defining the Wave Equation\n",
    "\n",
    "The wave equation in 1D is given by:\n",
    "$$\n",
    "\\frac{\\partial^2u}{\\partial t^2}=c^2\\frac{\\partial^2u}{\\partial x^2}\n",
    "$$\n",
    "\n",
    "where $u$ is the wave function, $c$ is the wave speed and $x$ is the spatial coordinate, and $t$ is the time."
   ]
  },
  {
   "cell_type": "markdown",
   "metadata": {},
   "source": [
    "## Neural Network Setup\n",
    "- Input: $(x,t)$\n",
    "- Output: $u$"
   ]
  },
  {
   "cell_type": "markdown",
   "metadata": {},
   "source": [
    "## PDE Residual\n",
    "\n",
    "Using automatic differentiation to compute the required derivatives:\n",
    "$$\n",
    "\\text{Residual} = \\frac{\\partial^2u}{\\partial t^2}-c^2\\frac{\\partial^2u}{\\partial x^2}\n",
    "$$"
   ]
  },
  {
   "cell_type": "markdown",
   "metadata": {},
   "source": [
    "## Loss Function\n",
    "\n",
    "- **Data Loss** : Mean squared error between predicted $u$ and known data points.\n",
    "- **PDE Residual Loss**: Mean squared error of the PDE residual."
   ]
  },
  {
   "cell_type": "markdown",
   "metadata": {},
   "source": [
    "## Training\n",
    "\n",
    "Train the neural network to minimize the combined loss function using gradient descent."
   ]
  }
 ],
 "metadata": {
  "language_info": {
   "name": "python"
  }
 },
 "nbformat": 4,
 "nbformat_minor": 2
}
